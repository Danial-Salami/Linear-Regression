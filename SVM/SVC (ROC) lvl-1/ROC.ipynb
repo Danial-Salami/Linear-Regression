{
 "cells": [
  {
   "cell_type": "code",
   "execution_count": 9,
   "id": "ba21ac48",
   "metadata": {
    "ExecuteTime": {
     "end_time": "2023-08-18T12:08:38.606685Z",
     "start_time": "2023-08-18T12:08:38.602164Z"
    }
   },
   "outputs": [],
   "source": [
    "import numpy as np\n",
    "import matplotlib.pyplot as plt\n",
    "from sklearn import datasets\n",
    "from sklearn.svm import SVC\n",
    "from sklearn.metrics import roc_curve, auc\n",
    "from sklearn.model_selection import StratifiedKFold"
   ]
  },
  {
   "cell_type": "code",
   "execution_count": 10,
   "id": "c65761f4",
   "metadata": {
    "ExecuteTime": {
     "end_time": "2023-08-18T12:08:38.934403Z",
     "start_time": "2023-08-18T12:08:38.927859Z"
    }
   },
   "outputs": [],
   "source": [
    "iris = datasets.load_iris()\n",
    "X= iris.data\n",
    "y = iris.target"
   ]
  },
  {
   "cell_type": "code",
   "execution_count": 11,
   "id": "868aa0d7",
   "metadata": {
    "ExecuteTime": {
     "end_time": "2023-08-18T12:08:39.233993Z",
     "start_time": "2023-08-18T12:08:39.229495Z"
    }
   },
   "outputs": [],
   "source": [
    "X = X[y != 2]\n",
    "y = y[y != 2]\n"
   ]
  },
  {
   "cell_type": "code",
   "execution_count": 12,
   "id": "54e065f5",
   "metadata": {
    "ExecuteTime": {
     "end_time": "2023-08-18T12:08:39.587281Z",
     "start_time": "2023-08-18T12:08:39.584543Z"
    }
   },
   "outputs": [],
   "source": [
    "n_samples, n_features = X.shape"
   ]
  },
  {
   "cell_type": "code",
   "execution_count": 13,
   "id": "8a8bec28",
   "metadata": {
    "ExecuteTime": {
     "end_time": "2023-08-18T12:08:39.981615Z",
     "start_time": "2023-08-18T12:08:39.974054Z"
    }
   },
   "outputs": [],
   "source": [
    "#Add noisy features\n",
    "rs = np.random.RandomState(0)\n",
    "\n",
    "X = np.c_[X,rs.randn(n_samples,200*n_features)]"
   ]
  },
  {
   "cell_type": "code",
   "execution_count": 14,
   "id": "6d81ab1c",
   "metadata": {
    "ExecuteTime": {
     "end_time": "2023-08-18T12:14:04.431693Z",
     "start_time": "2023-08-18T12:14:04.427730Z"
    }
   },
   "outputs": [],
   "source": [
    "clf =  SVC(kernel='linear', probability=True, random_state=rs)"
   ]
  },
  {
   "cell_type": "code",
   "execution_count": 15,
   "id": "d4ad8c8a",
   "metadata": {
    "ExecuteTime": {
     "end_time": "2023-08-18T12:18:22.118551Z",
     "start_time": "2023-08-18T12:18:22.114279Z"
    }
   },
   "outputs": [],
   "source": [
    "# 'tprs' and 'aucs' are lists to store True Positive Rates (TPRs)\n",
    "# and Area Under the Curve (AUC) values for each fold\n",
    "tprs = []\n",
    "auc = []\n",
    "# 'mean_fpr' is an array of false positive rate values ranging from 0 to 1.\n",
    "mean_fpr = []\n",
    "cv = StratifiedKFold(6)"
   ]
  },
  {
   "cell_type": "code",
   "execution_count": null,
   "id": "04f499c5",
   "metadata": {},
   "outputs": [],
   "source": [
    "i = 0\n"
   ]
  }
 ],
 "metadata": {
  "kernelspec": {
   "display_name": "Python 3 (ipykernel)",
   "language": "python",
   "name": "python3"
  },
  "language_info": {
   "codemirror_mode": {
    "name": "ipython",
    "version": 3
   },
   "file_extension": ".py",
   "mimetype": "text/x-python",
   "name": "python",
   "nbconvert_exporter": "python",
   "pygments_lexer": "ipython3",
   "version": "3.11.4"
  },
  "varInspector": {
   "cols": {
    "lenName": 16,
    "lenType": 16,
    "lenVar": 40
   },
   "kernels_config": {
    "python": {
     "delete_cmd_postfix": "",
     "delete_cmd_prefix": "del ",
     "library": "var_list.py",
     "varRefreshCmd": "print(var_dic_list())"
    },
    "r": {
     "delete_cmd_postfix": ") ",
     "delete_cmd_prefix": "rm(",
     "library": "var_list.r",
     "varRefreshCmd": "cat(var_dic_list()) "
    }
   },
   "types_to_exclude": [
    "module",
    "function",
    "builtin_function_or_method",
    "instance",
    "_Feature"
   ],
   "window_display": false
  }
 },
 "nbformat": 4,
 "nbformat_minor": 5
}

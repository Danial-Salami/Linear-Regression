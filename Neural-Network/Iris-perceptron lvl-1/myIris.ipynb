{
 "cells": [
  {
   "cell_type": "code",
   "execution_count": 162,
   "id": "91b33944",
   "metadata": {
    "ExecuteTime": {
     "end_time": "2023-08-12T11:01:55.211480Z",
     "start_time": "2023-08-12T11:01:55.207125Z"
    }
   },
   "outputs": [],
   "source": [
    "from mlxtend.data import iris_data\n",
    "from mlxtend.classifier import Perceptron\n",
    "from mlxtend.plotting import plot_decision_regions\n",
    "import matplotlib.pyplot as plt"
   ]
  },
  {
   "cell_type": "code",
   "execution_count": 163,
   "id": "ba2a401a",
   "metadata": {
    "ExecuteTime": {
     "end_time": "2023-08-12T11:01:55.403801Z",
     "start_time": "2023-08-12T11:01:55.396984Z"
    }
   },
   "outputs": [],
   "source": [
    "X , y = iris_data()\n",
    "X = X[:, [0,1]]"
   ]
  },
  {
   "cell_type": "code",
   "execution_count": 164,
   "id": "ea7d7503",
   "metadata": {
    "ExecuteTime": {
     "end_time": "2023-08-12T11:01:55.616509Z",
     "start_time": "2023-08-12T11:01:55.604094Z"
    }
   },
   "outputs": [
    {
     "data": {
      "text/plain": [
       "array([[5.1, 3.5],\n",
       "       [4.9, 3. ],\n",
       "       [4.7, 3.2],\n",
       "       [4.6, 3.1],\n",
       "       [5. , 3.6],\n",
       "       [5.4, 3.9],\n",
       "       [4.6, 3.4],\n",
       "       [5. , 3.4],\n",
       "       [4.4, 2.9],\n",
       "       [4.9, 3.1],\n",
       "       [5.4, 3.7],\n",
       "       [4.8, 3.4],\n",
       "       [4.8, 3. ],\n",
       "       [4.3, 3. ],\n",
       "       [5.8, 4. ],\n",
       "       [5.7, 4.4],\n",
       "       [5.4, 3.9],\n",
       "       [5.1, 3.5],\n",
       "       [5.7, 3.8],\n",
       "       [5.1, 3.8],\n",
       "       [5.4, 3.4],\n",
       "       [5.1, 3.7],\n",
       "       [4.6, 3.6],\n",
       "       [5.1, 3.3],\n",
       "       [4.8, 3.4],\n",
       "       [5. , 3. ],\n",
       "       [5. , 3.4],\n",
       "       [5.2, 3.5],\n",
       "       [5.2, 3.4],\n",
       "       [4.7, 3.2],\n",
       "       [4.8, 3.1],\n",
       "       [5.4, 3.4],\n",
       "       [5.2, 4.1],\n",
       "       [5.5, 4.2],\n",
       "       [4.9, 3.1],\n",
       "       [5. , 3.2],\n",
       "       [5.5, 3.5],\n",
       "       [4.9, 3.1],\n",
       "       [4.4, 3. ],\n",
       "       [5.1, 3.4],\n",
       "       [5. , 3.5],\n",
       "       [4.5, 2.3],\n",
       "       [4.4, 3.2],\n",
       "       [5. , 3.5],\n",
       "       [5.1, 3.8],\n",
       "       [4.8, 3. ],\n",
       "       [5.1, 3.8],\n",
       "       [4.6, 3.2],\n",
       "       [5.3, 3.7],\n",
       "       [5. , 3.3],\n",
       "       [7. , 3.2],\n",
       "       [6.4, 3.2],\n",
       "       [6.9, 3.1],\n",
       "       [5.5, 2.3],\n",
       "       [6.5, 2.8],\n",
       "       [5.7, 2.8],\n",
       "       [6.3, 3.3],\n",
       "       [4.9, 2.4],\n",
       "       [6.6, 2.9],\n",
       "       [5.2, 2.7],\n",
       "       [5. , 2. ],\n",
       "       [5.9, 3. ],\n",
       "       [6. , 2.2],\n",
       "       [6.1, 2.9],\n",
       "       [5.6, 2.9],\n",
       "       [6.7, 3.1],\n",
       "       [5.6, 3. ],\n",
       "       [5.8, 2.7],\n",
       "       [6.2, 2.2],\n",
       "       [5.6, 2.5],\n",
       "       [5.9, 3.2],\n",
       "       [6.1, 2.8],\n",
       "       [6.3, 2.5],\n",
       "       [6.1, 2.8],\n",
       "       [6.4, 2.9],\n",
       "       [6.6, 3. ],\n",
       "       [6.8, 2.8],\n",
       "       [6.7, 3. ],\n",
       "       [6. , 2.9],\n",
       "       [5.7, 2.6],\n",
       "       [5.5, 2.4],\n",
       "       [5.5, 2.4],\n",
       "       [5.8, 2.7],\n",
       "       [6. , 2.7],\n",
       "       [5.4, 3. ],\n",
       "       [6. , 3.4],\n",
       "       [6.7, 3.1],\n",
       "       [6.3, 2.3],\n",
       "       [5.6, 3. ],\n",
       "       [5.5, 2.5],\n",
       "       [5.5, 2.6],\n",
       "       [6.1, 3. ],\n",
       "       [5.8, 2.6],\n",
       "       [5. , 2.3],\n",
       "       [5.6, 2.7],\n",
       "       [5.7, 3. ],\n",
       "       [5.7, 2.9],\n",
       "       [6.2, 2.9],\n",
       "       [5.1, 2.5],\n",
       "       [5.7, 2.8],\n",
       "       [6.3, 3.3],\n",
       "       [5.8, 2.7],\n",
       "       [7.1, 3. ],\n",
       "       [6.3, 2.9],\n",
       "       [6.5, 3. ],\n",
       "       [7.6, 3. ],\n",
       "       [4.9, 2.5],\n",
       "       [7.3, 2.9],\n",
       "       [6.7, 2.5],\n",
       "       [7.2, 3.6],\n",
       "       [6.5, 3.2],\n",
       "       [6.4, 2.7],\n",
       "       [6.8, 3. ],\n",
       "       [5.7, 2.5],\n",
       "       [5.8, 2.8],\n",
       "       [6.4, 3.2],\n",
       "       [6.5, 3. ],\n",
       "       [7.7, 3.8],\n",
       "       [7.7, 2.6],\n",
       "       [6. , 2.2],\n",
       "       [6.9, 3.2],\n",
       "       [5.6, 2.8],\n",
       "       [7.7, 2.8],\n",
       "       [6.3, 2.7],\n",
       "       [6.7, 3.3],\n",
       "       [7.2, 3.2],\n",
       "       [6.2, 2.8],\n",
       "       [6.1, 3. ],\n",
       "       [6.4, 2.8],\n",
       "       [7.2, 3. ],\n",
       "       [7.4, 2.8],\n",
       "       [7.9, 3.8],\n",
       "       [6.4, 2.8],\n",
       "       [6.3, 2.8],\n",
       "       [6.1, 2.6],\n",
       "       [7.7, 3. ],\n",
       "       [6.3, 3.4],\n",
       "       [6.4, 3.1],\n",
       "       [6. , 3. ],\n",
       "       [6.9, 3.1],\n",
       "       [6.7, 3.1],\n",
       "       [6.9, 3.1],\n",
       "       [5.8, 2.7],\n",
       "       [6.8, 3.2],\n",
       "       [6.7, 3.3],\n",
       "       [6.7, 3. ],\n",
       "       [6.3, 2.5],\n",
       "       [6.5, 3. ],\n",
       "       [6.2, 3.4],\n",
       "       [5.9, 3. ]])"
      ]
     },
     "execution_count": 164,
     "metadata": {},
     "output_type": "execute_result"
    }
   ],
   "source": [
    "X"
   ]
  },
  {
   "cell_type": "code",
   "execution_count": 165,
   "id": "8858e56d",
   "metadata": {
    "ExecuteTime": {
     "end_time": "2023-08-12T11:01:55.782099Z",
     "start_time": "2023-08-12T11:01:55.777976Z"
    }
   },
   "outputs": [],
   "source": [
    "X = X[:100]\n",
    "y = y[:100]"
   ]
  },
  {
   "cell_type": "code",
   "execution_count": null,
   "id": "d27cd013",
   "metadata": {},
   "outputs": [],
   "source": []
  },
  {
   "cell_type": "code",
   "execution_count": 166,
   "id": "5b237b5f",
   "metadata": {
    "ExecuteTime": {
     "end_time": "2023-08-12T11:01:56.181374Z",
     "start_time": "2023-08-12T11:01:56.168735Z"
    }
   },
   "outputs": [
    {
     "data": {
      "text/plain": [
       "array([[-0.5810659 ,  0.85713543],\n",
       "       [-0.89430898, -0.19845007],\n",
       "       [-1.20755205,  0.22378413],\n",
       "       [-1.36417359,  0.01266703],\n",
       "       [-0.73768744,  1.06825253],\n",
       "       [-0.11120129,  1.70160383],\n",
       "       [-1.36417359,  0.64601833],\n",
       "       [-0.73768744,  0.64601833],\n",
       "       [-1.67741667, -0.40956718],\n",
       "       [-0.89430898,  0.01266703],\n",
       "       [-0.11120129,  1.27936963],\n",
       "       [-1.05093052,  0.64601833],\n",
       "       [-1.05093052, -0.19845007],\n",
       "       [-1.8340382 , -0.19845007],\n",
       "       [ 0.51528486,  1.91272093],\n",
       "       [ 0.35866332,  2.75718933],\n",
       "       [-0.11120129,  1.70160383],\n",
       "       [-0.5810659 ,  0.85713543],\n",
       "       [ 0.35866332,  1.49048673],\n",
       "       [-0.5810659 ,  1.49048673],\n",
       "       [-0.11120129,  0.64601833],\n",
       "       [-0.5810659 ,  1.27936963],\n",
       "       [-1.36417359,  1.06825253],\n",
       "       [-0.5810659 ,  0.43490123],\n",
       "       [-1.05093052,  0.64601833],\n",
       "       [-0.73768744, -0.19845007],\n",
       "       [-0.73768744,  0.64601833],\n",
       "       [-0.42444437,  0.85713543],\n",
       "       [-0.42444437,  0.64601833],\n",
       "       [-1.20755205,  0.22378413],\n",
       "       [-1.05093052,  0.01266703],\n",
       "       [-0.11120129,  0.64601833],\n",
       "       [-0.42444437,  2.12383803],\n",
       "       [ 0.04542025,  2.33495513],\n",
       "       [-0.89430898,  0.01266703],\n",
       "       [-0.73768744,  0.22378413],\n",
       "       [ 0.04542025,  0.85713543],\n",
       "       [-0.89430898,  0.01266703],\n",
       "       [-1.67741667, -0.19845007],\n",
       "       [-0.5810659 ,  0.64601833],\n",
       "       [-0.73768744,  0.85713543],\n",
       "       [-1.52079513, -1.67626978],\n",
       "       [-1.67741667,  0.22378413],\n",
       "       [-0.73768744,  0.85713543],\n",
       "       [-0.5810659 ,  1.49048673],\n",
       "       [-1.05093052, -0.19845007],\n",
       "       [-0.5810659 ,  1.49048673],\n",
       "       [-1.36417359,  0.22378413],\n",
       "       [-0.26782283,  1.27936963],\n",
       "       [-0.73768744,  0.43490123],\n",
       "       [ 2.39474331,  0.22378413],\n",
       "       [ 1.45501408,  0.22378413],\n",
       "       [ 2.23812177,  0.01266703],\n",
       "       [ 0.04542025, -1.67626978],\n",
       "       [ 1.61163562, -0.62068428],\n",
       "       [ 0.35866332, -0.62068428],\n",
       "       [ 1.29839254,  0.43490123],\n",
       "       [-0.89430898, -1.46515268],\n",
       "       [ 1.76825716, -0.40956718],\n",
       "       [-0.42444437, -0.83180138],\n",
       "       [-0.73768744, -2.30962108],\n",
       "       [ 0.6719064 , -0.19845007],\n",
       "       [ 0.82852793, -1.88738688],\n",
       "       [ 0.98514947, -0.40956718],\n",
       "       [ 0.20204178, -0.40956718],\n",
       "       [ 1.92487869,  0.01266703],\n",
       "       [ 0.20204178, -0.19845007],\n",
       "       [ 0.51528486, -0.83180138],\n",
       "       [ 1.14177101, -1.88738688],\n",
       "       [ 0.20204178, -1.25403558],\n",
       "       [ 0.6719064 ,  0.22378413],\n",
       "       [ 0.98514947, -0.62068428],\n",
       "       [ 1.29839254, -1.25403558],\n",
       "       [ 0.98514947, -0.62068428],\n",
       "       [ 1.45501408, -0.40956718],\n",
       "       [ 1.76825716, -0.19845007],\n",
       "       [ 2.08150023, -0.62068428],\n",
       "       [ 1.92487869, -0.19845007],\n",
       "       [ 0.82852793, -0.40956718],\n",
       "       [ 0.35866332, -1.04291848],\n",
       "       [ 0.04542025, -1.46515268],\n",
       "       [ 0.04542025, -1.46515268],\n",
       "       [ 0.51528486, -0.83180138],\n",
       "       [ 0.82852793, -0.83180138],\n",
       "       [-0.11120129, -0.19845007],\n",
       "       [ 0.82852793,  0.64601833],\n",
       "       [ 1.92487869,  0.01266703],\n",
       "       [ 1.29839254, -1.67626978],\n",
       "       [ 0.20204178, -0.19845007],\n",
       "       [ 0.04542025, -1.25403558],\n",
       "       [ 0.04542025, -1.04291848],\n",
       "       [ 0.98514947, -0.19845007],\n",
       "       [ 0.51528486, -1.04291848],\n",
       "       [-0.73768744, -1.67626978],\n",
       "       [ 0.20204178, -0.83180138],\n",
       "       [ 0.35866332, -0.19845007],\n",
       "       [ 0.35866332, -0.40956718],\n",
       "       [ 1.14177101, -0.40956718],\n",
       "       [-0.5810659 , -1.25403558],\n",
       "       [ 0.35866332, -0.62068428]])"
      ]
     },
     "execution_count": 166,
     "metadata": {},
     "output_type": "execute_result"
    }
   ],
   "source": [
    "X[:,0] = (X[:,0] - X[:,0].mean()) / X[:,0].std()\n",
    "X[:,1] = (X[:,1] - X[:,1].mean()) / X[:,1].std()\n",
    "X"
   ]
  },
  {
   "cell_type": "code",
   "execution_count": 167,
   "id": "de5b137e",
   "metadata": {
    "ExecuteTime": {
     "end_time": "2023-08-12T11:01:56.387233Z",
     "start_time": "2023-08-12T11:01:56.383643Z"
    }
   },
   "outputs": [],
   "source": [
    "ppn = Perceptron(eta=0.05, epochs=5, random_seed=None, print_progress=3)"
   ]
  },
  {
   "cell_type": "code",
   "execution_count": 173,
   "id": "9b93ed8f",
   "metadata": {
    "ExecuteTime": {
     "end_time": "2023-08-12T11:02:24.001715Z",
     "start_time": "2023-08-12T11:02:23.969104Z"
    }
   },
   "outputs": [
    {
     "name": "stderr",
     "output_type": "stream",
     "text": [
      "Iteration: 5/5 | Elapsed: 00:00:00 | ETA: 00:00:00TA: 00:00:00"
     ]
    }
   ],
   "source": [
    "ppn.fit(X,y);"
   ]
  },
  {
   "cell_type": "code",
   "execution_count": 169,
   "id": "f92e9e28",
   "metadata": {
    "ExecuteTime": {
     "end_time": "2023-08-12T11:01:56.759217Z",
     "start_time": "2023-08-12T11:01:56.753927Z"
    }
   },
   "outputs": [
    {
     "data": {
      "text/plain": [
       "[6, 1, 0, 0, 0]"
      ]
     },
     "execution_count": 169,
     "metadata": {},
     "output_type": "execute_result"
    }
   ],
   "source": [
    "ppn.cost_"
   ]
  },
  {
   "cell_type": "code",
   "execution_count": 176,
   "id": "ccb54967",
   "metadata": {
    "ExecuteTime": {
     "end_time": "2023-08-12T11:02:43.529511Z",
     "start_time": "2023-08-12T11:02:43.523548Z"
    }
   },
   "outputs": [
    {
     "data": {
      "text/plain": [
       "array([[ 0.20346487],\n",
       "       [-0.16200205]])"
      ]
     },
     "execution_count": 176,
     "metadata": {},
     "output_type": "execute_result"
    }
   ],
   "source": [
    "ppn.w_"
   ]
  },
  {
   "cell_type": "code",
   "execution_count": 171,
   "id": "6bdf2f84",
   "metadata": {
    "ExecuteTime": {
     "end_time": "2023-08-12T11:01:57.461238Z",
     "start_time": "2023-08-12T11:01:57.151971Z"
    }
   },
   "outputs": [
    {
     "data": {
      "image/png": "[encoded data removed]",
      "text/plain": [
       "<Figure size 640x480 with 1 Axes>"
      ]
     },
     "metadata": {},
     "output_type": "display_data"
    }
   ],
   "source": [
    "plot_decision_regions(X,\n",
    "    y,\n",
    "    clf=ppn);"
   ]
  },
  {
   "cell_type": "code",
   "execution_count": 172,
   "id": "bd198227",
   "metadata": {
    "ExecuteTime": {
     "end_time": "2023-08-12T11:01:57.716235Z",
     "start_time": "2023-08-12T11:01:57.479356Z"
    }
   },
   "outputs": [
    {
     "data": {
      "image/png": "[encoded data removed]",
      "text/plain": [
       "<Figure size 640x480 with 1 Axes>"
      ]
     },
     "metadata": {},
     "output_type": "display_data"
    }
   ],
   "source": [
    "plt.plot(range(len(ppn.cost_)), ppn.cost_)\n",
    "plt.xlabel('Iterations')\n",
    "plt.ylabel('Missclassifications');"
   ]
  },
  {
   "cell_type": "code",
   "execution_count": null,
   "id": "dd79fb8d",
   "metadata": {},
   "outputs": [],
   "source": []
  },
  {
   "cell_type": "code",
   "execution_count": null,
   "id": "7b1173ef",
   "metadata": {},
   "outputs": [],
   "source": []
  },
  {
   "cell_type": "code",
   "execution_count": null,
   "id": "8b06c884",
   "metadata": {},
   "outputs": [],
   "source": []
  },
  {
   "cell_type": "code",
   "execution_count": null,
   "id": "35339d44",
   "metadata": {},
   "outputs": [],
   "source": []
  }
 ],
 "metadata": {
  "kernelspec": {
   "display_name": "Python 3 (ipykernel)",
   "language": "python",
   "name": "python3"
  },
  "language_info": {
   "codemirror_mode": {
    "name": "ipython",
    "version": 3
   },
   "file_extension": ".py",
   "mimetype": "text/x-python",
   "name": "python",
   "nbconvert_exporter": "python",
   "pygments_lexer": "ipython3",
   "version": "3.11.4"
  },
  "varInspector": {
   "cols": {
    "lenName": 16,
    "lenType": 16,
    "lenVar": 40
   },
   "kernels_config": {
    "python": {
     "delete_cmd_postfix": "",
     "delete_cmd_prefix": "del ",
     "library": "var_list.py",
     "varRefreshCmd": "print(var_dic_list())"
    },
    "r": {
     "delete_cmd_postfix": ") ",
     "delete_cmd_prefix": "rm(",
     "library": "var_list.r",
     "varRefreshCmd": "cat(var_dic_list()) "
    }
   },
   "types_to_exclude": [
    "module",
    "function",
    "builtin_function_or_method",
    "instance",
    "_Feature"
   ],
   "window_display": false
  }
 },
 "nbformat": 4,
 "nbformat_minor": 5
}

{
 "cells": [
  {
   "cell_type": "code",
   "execution_count": 31,
   "id": "20e0d308",
   "metadata": {
    "ExecuteTime": {
     "end_time": "2023-08-11T19:09:35.930895Z",
     "start_time": "2023-08-11T19:09:35.925812Z"
    }
   },
   "outputs": [],
   "source": [
    "import numpy as np\n",
    "import pandas as pd \n",
    "from sklearn.neural_network import MLPClassifier\n",
    "from sklearn.datasets import fetch_openml\n",
    "import matplotlib.pyplot as plt\n",
    "from sklearn.model_selection import train_test_split\n",
    "from sklearn.metrics import classification_report, confusion_matrix\n",
    "from mlxtend.plotting import plot_confusion_matrix\n",
    "from sklearn.model_selection import cross_val_score\n",
    "import seaborn as sns\n"
   ]
  },
  {
   "cell_type": "code",
   "execution_count": 2,
   "id": "d86640ce",
   "metadata": {
    "ExecuteTime": {
     "end_time": "2023-08-11T18:13:58.484905Z",
     "start_time": "2023-08-11T18:13:54.572698Z"
    }
   },
   "outputs": [
    {
     "data": {
      "text/html": [
       "<div>\n",
       "<style scoped>\n",
       "    .dataframe tbody tr th:only-of-type {\n",
       "        vertical-align: middle;\n",
       "    }\n",
       "\n",
       "    .dataframe tbody tr th {\n",
       "        vertical-align: top;\n",
       "    }\n",
       "\n",
       "    .dataframe thead th {\n",
       "        text-align: right;\n",
       "    }\n",
       "</style>\n",
       "<table border=\"1\" class=\"dataframe\">\n",
       "  <thead>\n",
       "    <tr style=\"text-align: right;\">\n",
       "      <th></th>\n",
       "      <th>pixel1</th>\n",
       "      <th>pixel2</th>\n",
       "      <th>pixel3</th>\n",
       "      <th>pixel4</th>\n",
       "      <th>pixel5</th>\n",
       "      <th>pixel6</th>\n",
       "      <th>pixel7</th>\n",
       "      <th>pixel8</th>\n",
       "      <th>pixel9</th>\n",
       "      <th>pixel10</th>\n",
       "      <th>...</th>\n",
       "      <th>pixel775</th>\n",
       "      <th>pixel776</th>\n",
       "      <th>pixel777</th>\n",
       "      <th>pixel778</th>\n",
       "      <th>pixel779</th>\n",
       "      <th>pixel780</th>\n",
       "      <th>pixel781</th>\n",
       "      <th>pixel782</th>\n",
       "      <th>pixel783</th>\n",
       "      <th>pixel784</th>\n",
       "    </tr>\n",
       "  </thead>\n",
       "  <tbody>\n",
       "    <tr>\n",
       "      <th>0</th>\n",
       "      <td>0.0</td>\n",
       "      <td>0.0</td>\n",
       "      <td>0.0</td>\n",
       "      <td>0.0</td>\n",
       "      <td>0.0</td>\n",
       "      <td>0.0</td>\n",
       "      <td>0.0</td>\n",
       "      <td>0.0</td>\n",
       "      <td>0.0</td>\n",
       "      <td>0.0</td>\n",
       "      <td>...</td>\n",
       "      <td>0.0</td>\n",
       "      <td>0.0</td>\n",
       "      <td>0.0</td>\n",
       "      <td>0.0</td>\n",
       "      <td>0.0</td>\n",
       "      <td>0.0</td>\n",
       "      <td>0.0</td>\n",
       "      <td>0.0</td>\n",
       "      <td>0.0</td>\n",
       "      <td>0.0</td>\n",
       "    </tr>\n",
       "    <tr>\n",
       "      <th>1</th>\n",
       "      <td>0.0</td>\n",
       "      <td>0.0</td>\n",
       "      <td>0.0</td>\n",
       "      <td>0.0</td>\n",
       "      <td>0.0</td>\n",
       "      <td>0.0</td>\n",
       "      <td>0.0</td>\n",
       "      <td>0.0</td>\n",
       "      <td>0.0</td>\n",
       "      <td>0.0</td>\n",
       "      <td>...</td>\n",
       "      <td>0.0</td>\n",
       "      <td>0.0</td>\n",
       "      <td>0.0</td>\n",
       "      <td>0.0</td>\n",
       "      <td>0.0</td>\n",
       "      <td>0.0</td>\n",
       "      <td>0.0</td>\n",
       "      <td>0.0</td>\n",
       "      <td>0.0</td>\n",
       "      <td>0.0</td>\n",
       "    </tr>\n",
       "    <tr>\n",
       "      <th>2</th>\n",
       "      <td>0.0</td>\n",
       "      <td>0.0</td>\n",
       "      <td>0.0</td>\n",
       "      <td>0.0</td>\n",
       "      <td>0.0</td>\n",
       "      <td>0.0</td>\n",
       "      <td>0.0</td>\n",
       "      <td>0.0</td>\n",
       "      <td>0.0</td>\n",
       "      <td>0.0</td>\n",
       "      <td>...</td>\n",
       "      <td>0.0</td>\n",
       "      <td>0.0</td>\n",
       "      <td>0.0</td>\n",
       "      <td>0.0</td>\n",
       "      <td>0.0</td>\n",
       "      <td>0.0</td>\n",
       "      <td>0.0</td>\n",
       "      <td>0.0</td>\n",
       "      <td>0.0</td>\n",
       "      <td>0.0</td>\n",
       "    </tr>\n",
       "  </tbody>\n",
       "</table>\n",
       "<p>3 rows × 784 columns</p>\n",
       "</div>"
      ],
      "text/plain": [
       "   pixel1  pixel2  pixel3  pixel4  pixel5  pixel6  pixel7  pixel8  pixel9  \\\n",
       "0     0.0     0.0     0.0     0.0     0.0     0.0     0.0     0.0     0.0   \n",
       "1     0.0     0.0     0.0     0.0     0.0     0.0     0.0     0.0     0.0   \n",
       "2     0.0     0.0     0.0     0.0     0.0     0.0     0.0     0.0     0.0   \n",
       "\n",
       "   pixel10  ...  pixel775  pixel776  pixel777  pixel778  pixel779  pixel780  \\\n",
       "0      0.0  ...       0.0       0.0       0.0       0.0       0.0       0.0   \n",
       "1      0.0  ...       0.0       0.0       0.0       0.0       0.0       0.0   \n",
       "2      0.0  ...       0.0       0.0       0.0       0.0       0.0       0.0   \n",
       "\n",
       "   pixel781  pixel782  pixel783  pixel784  \n",
       "0       0.0       0.0       0.0       0.0  \n",
       "1       0.0       0.0       0.0       0.0  \n",
       "2       0.0       0.0       0.0       0.0  \n",
       "\n",
       "[3 rows x 784 columns]"
      ]
     },
     "execution_count": 2,
     "metadata": {},
     "output_type": "execute_result"
    }
   ],
   "source": [
    "data = pd.read_csv('mnist.csv')\n",
    "\n",
    "\n",
    "X = data.drop('class', axis=1) / 255\n",
    "y = data['class']\n",
    "\n",
    "X.head(3)"
   ]
  },
  {
   "cell_type": "code",
   "execution_count": 3,
   "id": "c584af83",
   "metadata": {
    "ExecuteTime": {
     "end_time": "2023-08-11T18:13:58.492812Z",
     "start_time": "2023-08-11T18:13:58.487899Z"
    }
   },
   "outputs": [
    {
     "data": {
      "text/plain": [
       "(70000, 784)"
      ]
     },
     "execution_count": 3,
     "metadata": {},
     "output_type": "execute_result"
    }
   ],
   "source": [
    "X.shape"
   ]
  },
  {
   "cell_type": "code",
   "execution_count": 4,
   "id": "83cf3ea4",
   "metadata": {
    "ExecuteTime": {
     "end_time": "2023-08-11T18:13:58.586476Z",
     "start_time": "2023-08-11T18:13:58.494811Z"
    }
   },
   "outputs": [
    {
     "data": {
      "text/plain": [
       "0        5\n",
       "1        0\n",
       "2        4\n",
       "3        1\n",
       "4        9\n",
       "        ..\n",
       "69995    2\n",
       "69996    3\n",
       "69997    4\n",
       "69998    5\n",
       "69999    6\n",
       "Name: class, Length: 70000, dtype: int64"
      ]
     },
     "execution_count": 4,
     "metadata": {},
     "output_type": "execute_result"
    }
   ],
   "source": [
    "y"
   ]
  },
  {
   "cell_type": "code",
   "execution_count": 5,
   "id": "b1cac7a9",
   "metadata": {
    "ExecuteTime": {
     "end_time": "2023-08-11T18:13:59.230261Z",
     "start_time": "2023-08-11T18:13:58.588473Z"
    }
   },
   "outputs": [],
   "source": [
    "X_train,X_test,y_train,y_test = train_test_split(X,y,test_size=0.30,random_state=42)"
   ]
  },
  {
   "cell_type": "code",
   "execution_count": 6,
   "id": "b374e4d0",
   "metadata": {
    "ExecuteTime": {
     "end_time": "2023-08-11T18:13:59.236290Z",
     "start_time": "2023-08-11T18:13:59.232248Z"
    }
   },
   "outputs": [],
   "source": [
    "model = MLPClassifier(hidden_layer_sizes=(50,) , max_iter=100 , alpha=1e-4,solver='sgd', random_state=1 \n",
    "                      , learning_rate_init=.1 , verbose=10 , tol=1e-4)"
   ]
  },
  {
   "cell_type": "code",
   "execution_count": 7,
   "id": "3835e34b",
   "metadata": {
    "ExecuteTime": {
     "end_time": "2023-08-11T18:15:21.056885Z",
     "start_time": "2023-08-11T18:13:59.238296Z"
    }
   },
   "outputs": [
    {
     "name": "stdout",
     "output_type": "stream",
     "text": [
      "Iteration 1, loss = 0.34807983\n",
      "Iteration 2, loss = 0.16787041\n",
      "Iteration 3, loss = 0.12334690\n",
      "Iteration 4, loss = 0.09944321\n",
      "Iteration 5, loss = 0.08314235\n",
      "Iteration 6, loss = 0.07377693\n",
      "Iteration 7, loss = 0.06340973\n",
      "Iteration 8, loss = 0.05696898\n",
      "Iteration 9, loss = 0.04918797\n",
      "Iteration 10, loss = 0.04459017\n",
      "Iteration 11, loss = 0.04034927\n",
      "Iteration 12, loss = 0.03528042\n",
      "Iteration 13, loss = 0.03235654\n",
      "Iteration 14, loss = 0.02915535\n",
      "Iteration 15, loss = 0.02617270\n",
      "Iteration 16, loss = 0.02352415\n",
      "Iteration 17, loss = 0.02141425\n",
      "Iteration 18, loss = 0.01922427\n",
      "Iteration 19, loss = 0.01661018\n",
      "Iteration 20, loss = 0.01570911\n",
      "Iteration 21, loss = 0.01395848\n",
      "Iteration 22, loss = 0.01198040\n",
      "Iteration 23, loss = 0.01025597\n",
      "Iteration 24, loss = 0.00903401\n",
      "Iteration 25, loss = 0.00811913\n",
      "Iteration 26, loss = 0.00696308\n",
      "Iteration 27, loss = 0.00568704\n",
      "Iteration 28, loss = 0.00521888\n",
      "Iteration 29, loss = 0.00531074\n",
      "Iteration 30, loss = 0.00481745\n",
      "Iteration 31, loss = 0.00360760\n",
      "Iteration 32, loss = 0.00331880\n",
      "Iteration 33, loss = 0.00285019\n",
      "Iteration 34, loss = 0.00276350\n",
      "Iteration 35, loss = 0.00266096\n",
      "Iteration 36, loss = 0.00244133\n",
      "Iteration 37, loss = 0.00231583\n",
      "Iteration 38, loss = 0.00216621\n",
      "Iteration 39, loss = 0.00207601\n",
      "Iteration 40, loss = 0.00201571\n",
      "Iteration 41, loss = 0.00193354\n",
      "Iteration 42, loss = 0.00184600\n",
      "Iteration 43, loss = 0.00174819\n",
      "Iteration 44, loss = 0.00170627\n",
      "Iteration 45, loss = 0.00165561\n",
      "Iteration 46, loss = 0.00159669\n",
      "Iteration 47, loss = 0.00156098\n",
      "Iteration 48, loss = 0.00151741\n",
      "Iteration 49, loss = 0.00148821\n",
      "Training loss did not improve more than tol=0.000100 for 10 consecutive epochs. Stopping.\n"
     ]
    },
    {
     "data": {
      "text/html": [
       "<style>#sk-container-id-1 {color: black;background-color: white;}#sk-container-id-1 pre{padding: 0;}#sk-container-id-1 div.sk-toggleable {background-color: white;}#sk-container-id-1 label.sk-toggleable__label {cursor: pointer;display: block;width: 100%;margin-bottom: 0;padding: 0.3em;box-sizing: border-box;text-align: center;}#sk-container-id-1 label.sk-toggleable__label-arrow:before {content: \"▸\";float: left;margin-right: 0.25em;color: #696969;}#sk-container-id-1 label.sk-toggleable__label-arrow:hover:before {color: black;}#sk-container-id-1 div.sk-estimator:hover label.sk-toggleable__label-arrow:before {color: black;}#sk-container-id-1 div.sk-toggleable__content {max-height: 0;max-width: 0;overflow: hidden;text-align: left;background-color: #f0f8ff;}#sk-container-id-1 div.sk-toggleable__content pre {margin: 0.2em;color: black;border-radius: 0.25em;background-color: #f0f8ff;}#sk-container-id-1 input.sk-toggleable__control:checked~div.sk-toggleable__content {max-height: 200px;max-width: 100%;overflow: auto;}#sk-container-id-1 input.sk-toggleable__control:checked~label.sk-toggleable__label-arrow:before {content: \"▾\";}#sk-container-id-1 div.sk-estimator input.sk-toggleable__control:checked~label.sk-toggleable__label {background-color: #d4ebff;}#sk-container-id-1 div.sk-label input.sk-toggleable__control:checked~label.sk-toggleable__label {background-color: #d4ebff;}#sk-container-id-1 input.sk-hidden--visually {border: 0;clip: rect(1px 1px 1px 1px);clip: rect(1px, 1px, 1px, 1px);height: 1px;margin: -1px;overflow: hidden;padding: 0;position: absolute;width: 1px;}#sk-container-id-1 div.sk-estimator {font-family: monospace;background-color: #f0f8ff;border: 1px dotted black;border-radius: 0.25em;box-sizing: border-box;margin-bottom: 0.5em;}#sk-container-id-1 div.sk-estimator:hover {background-color: #d4ebff;}#sk-container-id-1 div.sk-parallel-item::after {content: \"\";width: 100%;border-bottom: 1px solid gray;flex-grow: 1;}#sk-container-id-1 div.sk-label:hover label.sk-toggleable__label {background-color: #d4ebff;}#sk-container-id-1 div.sk-serial::before {content: \"\";position: absolute;border-left: 1px solid gray;box-sizing: border-box;top: 0;bottom: 0;left: 50%;z-index: 0;}#sk-container-id-1 div.sk-serial {display: flex;flex-direction: column;align-items: center;background-color: white;padding-right: 0.2em;padding-left: 0.2em;position: relative;}#sk-container-id-1 div.sk-item {position: relative;z-index: 1;}#sk-container-id-1 div.sk-parallel {display: flex;align-items: stretch;justify-content: center;background-color: white;position: relative;}#sk-container-id-1 div.sk-item::before, #sk-container-id-1 div.sk-parallel-item::before {content: \"\";position: absolute;border-left: 1px solid gray;box-sizing: border-box;top: 0;bottom: 0;left: 50%;z-index: -1;}#sk-container-id-1 div.sk-parallel-item {display: flex;flex-direction: column;z-index: 1;position: relative;background-color: white;}#sk-container-id-1 div.sk-parallel-item:first-child::after {align-self: flex-end;width: 50%;}#sk-container-id-1 div.sk-parallel-item:last-child::after {align-self: flex-start;width: 50%;}#sk-container-id-1 div.sk-parallel-item:only-child::after {width: 0;}#sk-container-id-1 div.sk-dashed-wrapped {border: 1px dashed gray;margin: 0 0.4em 0.5em 0.4em;box-sizing: border-box;padding-bottom: 0.4em;background-color: white;}#sk-container-id-1 div.sk-label label {font-family: monospace;font-weight: bold;display: inline-block;line-height: 1.2em;}#sk-container-id-1 div.sk-label-container {text-align: center;}#sk-container-id-1 div.sk-container {/* jupyter's `normalize.less` sets `[hidden] { display: none; }` but bootstrap.min.css set `[hidden] { display: none !important; }` so we also need the `!important` here to be able to override the default hidden behavior on the sphinx rendered scikit-learn.org. See: https://github.com/scikit-learn/scikit-learn/issues/21755 */display: inline-block !important;position: relative;}#sk-container-id-1 div.sk-text-repr-fallback {display: none;}</style><div id=\"sk-container-id-1\" class=\"sk-top-container\"><div class=\"sk-text-repr-fallback\"><pre>MLPClassifier(hidden_layer_sizes=(50,), learning_rate_init=0.1, max_iter=100,\n",
       "              random_state=1, solver=&#x27;sgd&#x27;, verbose=10)</pre><b>In a Jupyter environment, please rerun this cell to show the HTML representation or trust the notebook. <br />On GitHub, the HTML representation is unable to render, please try loading this page with nbviewer.org.</b></div><div class=\"sk-container\" hidden><div class=\"sk-item\"><div class=\"sk-estimator sk-toggleable\"><input class=\"sk-toggleable__control sk-hidden--visually\" id=\"sk-estimator-id-1\" type=\"checkbox\" checked><label for=\"sk-estimator-id-1\" class=\"sk-toggleable__label sk-toggleable__label-arrow\">MLPClassifier</label><div class=\"sk-toggleable__content\"><pre>MLPClassifier(hidden_layer_sizes=(50,), learning_rate_init=0.1, max_iter=100,\n",
       "              random_state=1, solver=&#x27;sgd&#x27;, verbose=10)</pre></div></div></div></div></div>"
      ],
      "text/plain": [
       "MLPClassifier(hidden_layer_sizes=(50,), learning_rate_init=0.1, max_iter=100,\n",
       "              random_state=1, solver='sgd', verbose=10)"
      ]
     },
     "execution_count": 7,
     "metadata": {},
     "output_type": "execute_result"
    }
   ],
   "source": [
    "model.fit(X_train,y_train)"
   ]
  },
  {
   "cell_type": "code",
   "execution_count": 8,
   "id": "2a0d7174",
   "metadata": {
    "ExecuteTime": {
     "end_time": "2023-08-11T18:15:21.239584Z",
     "start_time": "2023-08-11T18:15:21.058879Z"
    }
   },
   "outputs": [
    {
     "data": {
      "text/plain": [
       "1.0"
      ]
     },
     "execution_count": 8,
     "metadata": {},
     "output_type": "execute_result"
    }
   ],
   "source": [
    "model.score(X_train, y_train)"
   ]
  },
  {
   "cell_type": "code",
   "execution_count": 9,
   "id": "d584f35d",
   "metadata": {
    "ExecuteTime": {
     "end_time": "2023-08-11T18:15:21.340524Z",
     "start_time": "2023-08-11T18:15:21.242581Z"
    }
   },
   "outputs": [
    {
     "data": {
      "text/plain": [
       "0.9719523809523809"
      ]
     },
     "execution_count": 9,
     "metadata": {},
     "output_type": "execute_result"
    }
   ],
   "source": [
    "model.score(X_test, y_test)"
   ]
  },
  {
   "cell_type": "code",
   "execution_count": 10,
   "id": "dc5ac9ed",
   "metadata": {
    "ExecuteTime": {
     "end_time": "2023-08-11T18:21:05.799128Z",
     "start_time": "2023-08-11T18:15:21.342523Z"
    }
   },
   "outputs": [
    {
     "name": "stdout",
     "output_type": "stream",
     "text": [
      "Iteration 1, loss = 0.37370915\n",
      "Iteration 2, loss = 0.17853008\n",
      "Iteration 3, loss = 0.13505803\n",
      "Iteration 4, loss = 0.10912708\n",
      "Iteration 5, loss = 0.09145924\n",
      "Iteration 6, loss = 0.07656488\n",
      "Iteration 7, loss = 0.06578890\n",
      "Iteration 8, loss = 0.05846160\n",
      "Iteration 9, loss = 0.05184307\n",
      "Iteration 10, loss = 0.04451691\n",
      "Iteration 11, loss = 0.04001824\n",
      "Iteration 12, loss = 0.03530672\n",
      "Iteration 13, loss = 0.03152258\n",
      "Iteration 14, loss = 0.02826479\n",
      "Iteration 15, loss = 0.02465945\n",
      "Iteration 16, loss = 0.02285618\n",
      "Iteration 17, loss = 0.02036127\n",
      "Iteration 18, loss = 0.01685153\n",
      "Iteration 19, loss = 0.01563372\n",
      "Iteration 20, loss = 0.01302593\n",
      "Iteration 21, loss = 0.01120728\n",
      "Iteration 22, loss = 0.01041383\n",
      "Iteration 23, loss = 0.00899731\n",
      "Iteration 24, loss = 0.00753535\n",
      "Iteration 25, loss = 0.00652658\n",
      "Iteration 26, loss = 0.00593071\n",
      "Iteration 27, loss = 0.00517033\n",
      "Iteration 28, loss = 0.00458602\n",
      "Iteration 29, loss = 0.00413093\n",
      "Iteration 30, loss = 0.00390670\n",
      "Iteration 31, loss = 0.00345765\n",
      "Iteration 32, loss = 0.00325185\n",
      "Iteration 33, loss = 0.00306866\n",
      "Iteration 34, loss = 0.00282723\n",
      "Iteration 35, loss = 0.00265701\n",
      "Iteration 36, loss = 0.00250196\n",
      "Iteration 37, loss = 0.00236312\n",
      "Iteration 38, loss = 0.00228478\n",
      "Iteration 39, loss = 0.00219138\n",
      "Iteration 40, loss = 0.00209372\n",
      "Iteration 41, loss = 0.00200959\n",
      "Iteration 42, loss = 0.00194505\n",
      "Iteration 43, loss = 0.00190901\n",
      "Iteration 44, loss = 0.00180709\n",
      "Iteration 45, loss = 0.00172665\n",
      "Iteration 46, loss = 0.00168663\n",
      "Iteration 47, loss = 0.00163680\n",
      "Iteration 48, loss = 0.00160024\n",
      "Iteration 49, loss = 0.00155982\n",
      "Iteration 50, loss = 0.00150285\n",
      "Iteration 51, loss = 0.00147151\n",
      "Iteration 52, loss = 0.00143707\n",
      "Iteration 53, loss = 0.00141313\n",
      "Iteration 54, loss = 0.00137131\n",
      "Iteration 55, loss = 0.00135110\n",
      "Training loss did not improve more than tol=0.000100 for 10 consecutive epochs. Stopping.\n",
      "Iteration 1, loss = 0.37438930\n",
      "Iteration 2, loss = 0.17885849\n",
      "Iteration 3, loss = 0.13548543\n",
      "Iteration 4, loss = 0.11017661\n",
      "Iteration 5, loss = 0.09215528\n",
      "Iteration 6, loss = 0.07845504\n",
      "Iteration 7, loss = 0.06832994\n",
      "Iteration 8, loss = 0.06070095\n",
      "Iteration 9, loss = 0.05338033\n",
      "Iteration 10, loss = 0.04711367\n",
      "Iteration 11, loss = 0.04170886\n",
      "Iteration 12, loss = 0.03704951\n",
      "Iteration 13, loss = 0.03180268\n",
      "Iteration 14, loss = 0.02992310\n",
      "Iteration 15, loss = 0.02716269\n",
      "Iteration 16, loss = 0.02580609\n",
      "Iteration 17, loss = 0.02275710\n",
      "Iteration 18, loss = 0.01998417\n",
      "Iteration 19, loss = 0.01745997\n",
      "Iteration 20, loss = 0.01448480\n",
      "Iteration 21, loss = 0.01282218\n",
      "Iteration 22, loss = 0.01144350\n",
      "Iteration 23, loss = 0.00988685\n",
      "Iteration 24, loss = 0.00909034\n",
      "Iteration 25, loss = 0.00776082\n",
      "Iteration 26, loss = 0.00693906\n",
      "Iteration 27, loss = 0.00554279\n",
      "Iteration 28, loss = 0.00487606\n",
      "Iteration 29, loss = 0.00467401\n",
      "Iteration 30, loss = 0.00420056\n",
      "Iteration 31, loss = 0.00349889\n",
      "Iteration 32, loss = 0.00336804\n",
      "Iteration 33, loss = 0.00307908\n",
      "Iteration 34, loss = 0.00282124\n",
      "Iteration 35, loss = 0.00268546\n",
      "Iteration 36, loss = 0.00251005\n",
      "Iteration 37, loss = 0.00240113\n",
      "Iteration 38, loss = 0.00227223\n",
      "Iteration 39, loss = 0.00216585\n",
      "Iteration 40, loss = 0.00208840\n",
      "Iteration 41, loss = 0.00199117\n",
      "Iteration 42, loss = 0.00191295\n",
      "Iteration 43, loss = 0.00187035\n",
      "Iteration 44, loss = 0.00179417\n",
      "Iteration 45, loss = 0.00173387\n",
      "Iteration 46, loss = 0.00169041\n",
      "Iteration 47, loss = 0.00164146\n",
      "Iteration 48, loss = 0.00159753\n",
      "Iteration 49, loss = 0.00154445\n",
      "Iteration 50, loss = 0.00149530\n",
      "Training loss did not improve more than tol=0.000100 for 10 consecutive epochs. Stopping.\n",
      "Iteration 1, loss = 0.37536101\n",
      "Iteration 2, loss = 0.18109229\n",
      "Iteration 3, loss = 0.13387132\n",
      "Iteration 4, loss = 0.10726524\n",
      "Iteration 5, loss = 0.09100196\n",
      "Iteration 6, loss = 0.07609488\n",
      "Iteration 7, loss = 0.06623953\n",
      "Iteration 8, loss = 0.05914998\n",
      "Iteration 9, loss = 0.05160537\n",
      "Iteration 10, loss = 0.04561847\n",
      "Iteration 11, loss = 0.04104835\n",
      "Iteration 12, loss = 0.03630558\n",
      "Iteration 13, loss = 0.03216899\n",
      "Iteration 14, loss = 0.02838546\n",
      "Iteration 15, loss = 0.02636024\n",
      "Iteration 16, loss = 0.02268262\n",
      "Iteration 17, loss = 0.02052883\n",
      "Iteration 18, loss = 0.01883149\n",
      "Iteration 19, loss = 0.01562278\n",
      "Iteration 20, loss = 0.01347107\n",
      "Iteration 21, loss = 0.01225516\n",
      "Iteration 22, loss = 0.01027082\n",
      "Iteration 23, loss = 0.00891539\n",
      "Iteration 24, loss = 0.00758982\n",
      "Iteration 25, loss = 0.00689588\n",
      "Iteration 26, loss = 0.00598774\n",
      "Iteration 27, loss = 0.00488240\n",
      "Iteration 28, loss = 0.00432385\n",
      "Iteration 29, loss = 0.00392363\n",
      "Iteration 30, loss = 0.00356608\n",
      "Iteration 31, loss = 0.00321308\n",
      "Iteration 32, loss = 0.00298972\n",
      "Iteration 33, loss = 0.00279724\n",
      "Iteration 34, loss = 0.00263303\n",
      "Iteration 35, loss = 0.00255186\n",
      "Iteration 36, loss = 0.00240864\n",
      "Iteration 37, loss = 0.00234704\n",
      "Iteration 38, loss = 0.00218925\n",
      "Iteration 39, loss = 0.00211022\n",
      "Iteration 40, loss = 0.00202907\n",
      "Iteration 41, loss = 0.00195024\n",
      "Iteration 42, loss = 0.00190159\n",
      "Iteration 43, loss = 0.00186004\n",
      "Iteration 44, loss = 0.00176024\n",
      "Iteration 45, loss = 0.00168491\n",
      "Iteration 46, loss = 0.00167606\n",
      "Iteration 47, loss = 0.00159974\n",
      "Iteration 48, loss = 0.00156019\n",
      "Iteration 49, loss = 0.00152173\n",
      "Training loss did not improve more than tol=0.000100 for 10 consecutive epochs. Stopping.\n",
      "Iteration 1, loss = 0.37460083\n",
      "Iteration 2, loss = 0.18009062\n",
      "Iteration 3, loss = 0.13139570\n",
      "Iteration 4, loss = 0.10325321\n",
      "Iteration 5, loss = 0.08668933\n",
      "Iteration 6, loss = 0.07432566\n",
      "Iteration 7, loss = 0.06328488\n",
      "Iteration 8, loss = 0.05618523\n",
      "Iteration 9, loss = 0.04863661\n",
      "Iteration 10, loss = 0.04200212\n",
      "Iteration 11, loss = 0.03733223\n",
      "Iteration 12, loss = 0.03278620\n",
      "Iteration 13, loss = 0.02914460\n",
      "Iteration 14, loss = 0.02500121\n",
      "Iteration 15, loss = 0.02232068\n",
      "Iteration 16, loss = 0.02013552\n",
      "Iteration 17, loss = 0.01807200\n",
      "Iteration 18, loss = 0.01661119\n",
      "Iteration 19, loss = 0.01395424\n",
      "Iteration 20, loss = 0.01190701\n",
      "Iteration 21, loss = 0.00990737\n",
      "Iteration 22, loss = 0.00909657\n",
      "Iteration 23, loss = 0.00785775\n",
      "Iteration 24, loss = 0.00722119\n",
      "Iteration 25, loss = 0.00615859\n",
      "Iteration 26, loss = 0.00528738\n",
      "Iteration 27, loss = 0.00484323\n",
      "Iteration 28, loss = 0.00427350\n",
      "Iteration 29, loss = 0.00412309\n",
      "Iteration 30, loss = 0.00351235\n",
      "Iteration 31, loss = 0.00320708\n",
      "Iteration 32, loss = 0.00295949\n",
      "Iteration 33, loss = 0.00289126\n",
      "Iteration 34, loss = 0.00270877\n",
      "Iteration 35, loss = 0.00259183\n",
      "Iteration 36, loss = 0.00240020\n",
      "Iteration 37, loss = 0.00235166\n",
      "Iteration 38, loss = 0.00222044\n",
      "Iteration 39, loss = 0.00213990\n",
      "Iteration 40, loss = 0.00203002\n",
      "Iteration 41, loss = 0.00193939\n",
      "Iteration 42, loss = 0.00186340\n",
      "Iteration 43, loss = 0.00183745\n",
      "Iteration 44, loss = 0.00176523\n",
      "Iteration 45, loss = 0.00169622\n",
      "Iteration 46, loss = 0.00163967\n",
      "Iteration 47, loss = 0.00159264\n",
      "Iteration 48, loss = 0.00155065\n",
      "Iteration 49, loss = 0.00152742\n",
      "Iteration 50, loss = 0.00148942\n",
      "Iteration 51, loss = 0.00144995\n",
      "Training loss did not improve more than tol=0.000100 for 10 consecutive epochs. Stopping.\n",
      "Iteration 1, loss = 0.37555256\n",
      "Iteration 2, loss = 0.17999565\n",
      "Iteration 3, loss = 0.13069969\n",
      "Iteration 4, loss = 0.10315626\n",
      "Iteration 5, loss = 0.08730120\n",
      "Iteration 6, loss = 0.07321384\n",
      "Iteration 7, loss = 0.06526748\n",
      "Iteration 8, loss = 0.05642235\n",
      "Iteration 9, loss = 0.05025370\n",
      "Iteration 10, loss = 0.04333659\n",
      "Iteration 11, loss = 0.03873994\n",
      "Iteration 12, loss = 0.03403813\n",
      "Iteration 13, loss = 0.03080943\n",
      "Iteration 14, loss = 0.02718713\n",
      "Iteration 15, loss = 0.02471088\n",
      "Iteration 16, loss = 0.02092855\n",
      "Iteration 17, loss = 0.01813834\n",
      "Iteration 18, loss = 0.01719721\n",
      "Iteration 19, loss = 0.01501561\n",
      "Iteration 20, loss = 0.01247315\n",
      "Iteration 21, loss = 0.01146329\n",
      "Iteration 22, loss = 0.00904980\n",
      "Iteration 23, loss = 0.00867678\n",
      "Iteration 24, loss = 0.00757524\n",
      "Iteration 25, loss = 0.00642696\n",
      "Iteration 26, loss = 0.00556543\n",
      "Iteration 27, loss = 0.00530726\n",
      "Iteration 28, loss = 0.00459750\n",
      "Iteration 29, loss = 0.00415250\n",
      "Iteration 30, loss = 0.00370981\n",
      "Iteration 31, loss = 0.00353556\n",
      "Iteration 32, loss = 0.00324915\n",
      "Iteration 33, loss = 0.00300236\n",
      "Iteration 34, loss = 0.00284004\n",
      "Iteration 35, loss = 0.00267314\n",
      "Iteration 36, loss = 0.00254362\n",
      "Iteration 37, loss = 0.00239524\n",
      "Iteration 38, loss = 0.00227823\n",
      "Iteration 39, loss = 0.00222095\n",
      "Iteration 40, loss = 0.00209103\n",
      "Iteration 41, loss = 0.00200297\n",
      "Iteration 42, loss = 0.00201022\n",
      "Iteration 43, loss = 0.00188581\n",
      "Iteration 44, loss = 0.00180813\n",
      "Iteration 45, loss = 0.00174400\n",
      "Iteration 46, loss = 0.00168776\n",
      "Iteration 47, loss = 0.00164224\n",
      "Iteration 48, loss = 0.00159961\n",
      "Iteration 49, loss = 0.00154918\n",
      "Iteration 50, loss = 0.00149985\n",
      "Iteration 51, loss = 0.00148966\n",
      "Iteration 52, loss = 0.00142956\n",
      "Iteration 53, loss = 0.00140153\n",
      "Iteration 54, loss = 0.00137049\n",
      "Training loss did not improve more than tol=0.000100 for 10 consecutive epochs. Stopping.\n"
     ]
    }
   ],
   "source": [
    "scores = cross_val_score(model, X_train, y_train, cv=5)"
   ]
  },
  {
   "cell_type": "code",
   "execution_count": 11,
   "id": "87a87f81",
   "metadata": {
    "ExecuteTime": {
     "end_time": "2023-08-11T18:21:05.808119Z",
     "start_time": "2023-08-11T18:21:05.801123Z"
    }
   },
   "outputs": [
    {
     "name": "stdout",
     "output_type": "stream",
     "text": [
      "Cross-validation scores: [0.96959184 0.96928571 0.97387755 0.97040816 0.97112245]\n",
      "Mean cross-validation score: 0.9708571428571429\n"
     ]
    }
   ],
   "source": [
    "print('Cross-validation scores:', scores)\n",
    "print('Mean cross-validation score:', scores.mean())"
   ]
  },
  {
   "cell_type": "code",
   "execution_count": 12,
   "id": "e4ce22f6",
   "metadata": {
    "ExecuteTime": {
     "end_time": "2023-08-11T18:21:05.924472Z",
     "start_time": "2023-08-11T18:21:05.818116Z"
    }
   },
   "outputs": [],
   "source": [
    "y_pred = model.predict(X_test)"
   ]
  },
  {
   "cell_type": "code",
   "execution_count": 13,
   "id": "e16dd34b",
   "metadata": {
    "ExecuteTime": {
     "end_time": "2023-08-11T18:21:05.933547Z",
     "start_time": "2023-08-11T18:21:05.926468Z"
    }
   },
   "outputs": [
    {
     "data": {
      "text/plain": [
       "(21000,)"
      ]
     },
     "execution_count": 13,
     "metadata": {},
     "output_type": "execute_result"
    }
   ],
   "source": [
    "y_pred.shape"
   ]
  },
  {
   "cell_type": "code",
   "execution_count": 14,
   "id": "2298ffbc",
   "metadata": {
    "ExecuteTime": {
     "end_time": "2023-08-11T18:21:06.003116Z",
     "start_time": "2023-08-11T18:21:05.936542Z"
    }
   },
   "outputs": [],
   "source": [
    "clf = classification_report(y_test,y_pred)"
   ]
  },
  {
   "cell_type": "code",
   "execution_count": 15,
   "id": "cd6263c8",
   "metadata": {
    "ExecuteTime": {
     "end_time": "2023-08-11T18:21:06.010284Z",
     "start_time": "2023-08-11T18:21:06.005111Z"
    }
   },
   "outputs": [
    {
     "name": "stdout",
     "output_type": "stream",
     "text": [
      "              precision    recall  f1-score   support\n",
      "\n",
      "           0       0.98      0.98      0.98      2058\n",
      "           1       0.98      0.99      0.98      2364\n",
      "           2       0.97      0.97      0.97      2133\n",
      "           3       0.97      0.96      0.97      2176\n",
      "           4       0.97      0.97      0.97      1936\n",
      "           5       0.97      0.97      0.97      1915\n",
      "           6       0.98      0.98      0.98      2088\n",
      "           7       0.98      0.97      0.97      2248\n",
      "           8       0.97      0.95      0.96      1992\n",
      "           9       0.96      0.96      0.96      2090\n",
      "\n",
      "    accuracy                           0.97     21000\n",
      "   macro avg       0.97      0.97      0.97     21000\n",
      "weighted avg       0.97      0.97      0.97     21000\n",
      "\n"
     ]
    }
   ],
   "source": [
    "print(clf)"
   ]
  },
  {
   "cell_type": "code",
   "execution_count": 16,
   "id": "08a5112c",
   "metadata": {
    "ExecuteTime": {
     "end_time": "2023-08-11T18:21:06.391963Z",
     "start_time": "2023-08-11T18:21:06.013278Z"
    }
   },
   "outputs": [
    {
     "data": {
      "image/png": "[encoded data removed]",
      "text/plain": [
       "<Figure size 400x400 with 1 Axes>"
      ]
     },
     "metadata": {},
     "output_type": "display_data"
    }
   ],
   "source": [
    "cm = confusion_matrix(y_test,y_pred)\n",
    "fig, ax = plot_confusion_matrix(conf_mat=cm, figsize=(4,4))\n",
    "plt.xlabel(\"prediction\")\n",
    "plt.ylabel(\"actual\")\n",
    "plt.title(\"Confusion Matrix\")\n",
    "plt.show()"
   ]
  },
  {
   "cell_type": "code",
   "execution_count": 49,
   "id": "42d84997",
   "metadata": {
    "ExecuteTime": {
     "end_time": "2023-08-11T19:18:43.588965Z",
     "start_time": "2023-08-11T19:18:42.998313Z"
    }
   },
   "outputs": [
    {
     "data": {
      "text/plain": [
       "Text(0.5, 14.722222222222216, 'Prediction')"
      ]
     },
     "execution_count": 49,
     "metadata": {},
     "output_type": "execute_result"
    },
    {
     "data": {
      "image/png": "[encoded data removed]",
      "text/plain": [
       "<Figure size 800x400 with 2 Axes>"
      ]
     },
     "metadata": {},
     "output_type": "display_data"
    }
   ],
   "source": [
    "sns.set_palette(sns.color_palette()), ax == plt.subplots(figsize=(8,4))\n",
    "ax = sns.heatmap(confusion_matrix(y_test, y_pred), annot=True, fmt='d', annot_kws={\"size\": 8, \"weight\": \"bold\"})\n",
    "labels = np.unique(y_test)\n",
    "ax.set_xticklabels(labels, fontsize=7);\n",
    "ax.set_yticklabels(labels, fontsize=7);\n",
    "ax.set_ylabel('Ground Truth', fontsize=10);\n",
    "ax.set_xlabel('Prediction', fontsize=10)"
   ]
  },
  {
   "cell_type": "code",
   "execution_count": 17,
   "id": "270217d2",
   "metadata": {
    "ExecuteTime": {
     "end_time": "2023-08-11T18:56:45.805181Z",
     "start_time": "2023-08-11T18:56:44.970160Z"
    }
   },
   "outputs": [
    {
     "data": {
      "image/png": "[encoded data removed]",
      "text/plain": [
       "<Figure size 640x480 with 16 Axes>"
      ]
     },
     "metadata": {},
     "output_type": "display_data"
    }
   ],
   "source": [
    "fig, axes = plt.subplots(4, 4)\n",
    "# use global min / max to ensure all weights are shown on the same scale\n",
    "vmin = model.coefs_[0].min()\n",
    "vmax = model.coefs_[0].max()\n",
    "\n",
    "for coef, ax in zip(model.coefs_[0].T, axes.ravel()):\n",
    "    ax.matshow(coef.reshape(28, 28), cmap=plt.cm.gray , vmin=.5 * vmin , vmax=.5 * vmax)\n",
    "    ax.set_xticks(())\n",
    "    ax.set_yticks(())"
   ]
  },
  {
   "cell_type": "code",
   "execution_count": null,
   "id": "084367d4",
   "metadata": {},
   "outputs": [],
   "source": []
  }
 ],
 "metadata": {
  "kernelspec": {
   "display_name": "Python 3 (ipykernel)",
   "language": "python",
   "name": "python3"
  },
  "language_info": {
   "codemirror_mode": {
    "name": "ipython",
    "version": 3
   },
   "file_extension": ".py",
   "mimetype": "text/x-python",
   "name": "python",
   "nbconvert_exporter": "python",
   "pygments_lexer": "ipython3",
   "version": "3.11.4"
  },
  "varInspector": {
   "cols": {
    "lenName": 16,
    "lenType": 16,
    "lenVar": 40
   },
   "kernels_config": {
    "python": {
     "delete_cmd_postfix": "",
     "delete_cmd_prefix": "del ",
     "library": "var_list.py",
     "varRefreshCmd": "print(var_dic_list())"
    },
    "r": {
     "delete_cmd_postfix": ") ",
     "delete_cmd_prefix": "rm(",
     "library": "var_list.r",
     "varRefreshCmd": "cat(var_dic_list()) "
    }
   },
   "position": {
    "height": "466.844px",
    "left": "1550px",
    "right": "20px",
    "top": "120px",
    "width": "350px"
   },
   "types_to_exclude": [
    "module",
    "function",
    "builtin_function_or_method",
    "instance",
    "_Feature"
   ],
   "window_display": false
  }
 },
 "nbformat": 4,
 "nbformat_minor": 5
}
